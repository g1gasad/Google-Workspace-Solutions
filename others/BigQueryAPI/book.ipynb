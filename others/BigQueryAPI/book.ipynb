{
 "cells": [
  {
   "cell_type": "code",
   "execution_count": 5,
   "metadata": {},
   "outputs": [
    {
     "name": "stdout",
     "output_type": "stream",
     "text": [
      "QueryJob<project=data-service-406112, location=asia-south1, id=9d559297-d601-46ae-9405-8470268b4209>\n"
     ]
    }
   ],
   "source": [
    "import os\n",
    "import time\n",
    "from google.cloud import bigquery\n",
    "import google.auth\n",
    "\n",
    "os.environ['GOOGLE_APPLICATION_CREDENTIALS'] = 'E:\\Projects\\GCP\\BigQueryAPI\\service_acc_secret_cred_key.json'\n",
    "credentials, project = google.auth.default(\n",
    "    scopes=[\n",
    "        \"https://www.googleapis.com/auth/drive\",\n",
    "        \"https://www.googleapis.com/auth/cloud-platform\",\n",
    "    ]\n",
    ")\n",
    "\n",
    "# Construct a BigQuery client object.\n",
    "client = bigquery.Client(credentials=credentials, project=project)\n",
    "\n",
    "def get_data(QUERY):\n",
    "    sql_query = QUERY\n",
    "    query_job = client.query(sql_query)\n",
    "\n",
    "    while query_job.state != \"DONE\":\n",
    "        query_job.reload()\n",
    "        time.sleep(3)\n",
    "\n",
    "    print(query_job)\n",
    "    results = query_job.result()\n",
    "\n",
    "    if query_job.state == 'DONE':\n",
    "        df = query_job.to_dataframe()\n",
    "        return df\n",
    "    else:\n",
    "        return query_job.result()\n",
    "\n",
    "sql_query = \"\"\"\n",
    "SELECT * \n",
    "FROM data-service-406112.tender_data.tender_contracts\n",
    "WHERE numeric_amount > 1e7\n",
    "\"\"\"\n",
    "df = get_data(sql_query)"
   ]
  },
  {
   "cell_type": "code",
   "execution_count": 6,
   "metadata": {},
   "outputs": [
    {
     "data": {
      "text/plain": [
       "(4048, 11)"
      ]
     },
     "execution_count": 6,
     "metadata": {},
     "output_type": "execute_result"
    }
   ],
   "source": [
    "df.shape"
   ]
  },
  {
   "cell_type": "code",
   "execution_count": null,
   "metadata": {},
   "outputs": [],
   "source": []
  }
 ],
 "metadata": {
  "kernelspec": {
   "display_name": "Python 3",
   "language": "python",
   "name": "python3"
  },
  "language_info": {
   "codemirror_mode": {
    "name": "ipython",
    "version": 3
   },
   "file_extension": ".py",
   "mimetype": "text/x-python",
   "name": "python",
   "nbconvert_exporter": "python",
   "pygments_lexer": "ipython3",
   "version": "3.11.4"
  }
 },
 "nbformat": 4,
 "nbformat_minor": 2
}
