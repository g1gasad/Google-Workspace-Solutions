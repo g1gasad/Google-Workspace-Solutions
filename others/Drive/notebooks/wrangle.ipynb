{
 "cells": [
  {
   "cell_type": "code",
   "execution_count": 24,
   "metadata": {},
   "outputs": [],
   "source": [
    "import pandas as pd"
   ]
  },
  {
   "cell_type": "code",
   "execution_count": 25,
   "metadata": {},
   "outputs": [
    {
     "name": "stdout",
     "output_type": "stream",
     "text": [
      "2022_PWR_808483_1 (1).pdf\n",
      "2022_PWR_808483_1.pdf\n",
      "2023_PWR_884035_1 (2).pdf\n",
      "2023_PWR_884035_1.pdf\n",
      "2022_PWPIU_214675_1 (1).pdf\n",
      "2022_PWPIU_214675_1.pdf\n",
      "2022_PWPIU_212064_1 (2).pdf\n",
      "2022_PWPIU_212064_1.pdf\n",
      "2022_PWPIU_212064_1 (1).pdf\n",
      "2022_PWPIU_212064_1.pdf\n",
      "2022_WRD_180279_1 (1).pdf\n",
      "2022_WRD_180279_1.pdf\n",
      "2022_WBRRD_214754_1 (2).pdf\n",
      "2022_WBRRD_214754_1.pdf\n",
      "2022_WBRRD_214754_1 (1).pdf\n",
      "2022_WBRRD_214754_1.pdf\n"
     ]
    }
   ],
   "source": [
    "for item in df['name']:\n",
    "    if \"(\" in item:\n",
    "        file_name = item.split(\" \")[0] + \".pdf\"\n",
    "        print(item)\n",
    "        print(file_name)"
   ]
  },
  {
   "cell_type": "code",
   "execution_count": 36,
   "metadata": {},
   "outputs": [
    {
     "data": {
      "text/html": [
       "<div>\n",
       "<style scoped>\n",
       "    .dataframe tbody tr th:only-of-type {\n",
       "        vertical-align: middle;\n",
       "    }\n",
       "\n",
       "    .dataframe tbody tr th {\n",
       "        vertical-align: top;\n",
       "    }\n",
       "\n",
       "    .dataframe thead th {\n",
       "        text-align: right;\n",
       "    }\n",
       "</style>\n",
       "<table border=\"1\" class=\"dataframe\">\n",
       "  <thead>\n",
       "    <tr style=\"text-align: right;\">\n",
       "      <th></th>\n",
       "      <th>kind</th>\n",
       "      <th>mimeType</th>\n",
       "      <th>id</th>\n",
       "      <th>name</th>\n",
       "    </tr>\n",
       "  </thead>\n",
       "  <tbody>\n",
       "    <tr>\n",
       "      <th>0</th>\n",
       "      <td>drive#file</td>\n",
       "      <td>application/pdf</td>\n",
       "      <td>1cOJgOr3cYNs3U365_gttBUDNb-DCcOsN</td>\n",
       "      <td>2022_EPI_133456_1.pdf</td>\n",
       "    </tr>\n",
       "    <tr>\n",
       "      <th>1</th>\n",
       "      <td>drive#file</td>\n",
       "      <td>application/pdf</td>\n",
       "      <td>16O0wYfV-fio6tAFQhGIhsWkzbIyS8MmQ</td>\n",
       "      <td>2022_PWR_832791_1.pdf</td>\n",
       "    </tr>\n",
       "    <tr>\n",
       "      <th>2</th>\n",
       "      <td>drive#file</td>\n",
       "      <td>application/pdf</td>\n",
       "      <td>1nDVL8qvP841xvId3HgqnwcyaYvhPkXhg</td>\n",
       "      <td>2022_PWR_855889_1.pdf</td>\n",
       "    </tr>\n",
       "    <tr>\n",
       "      <th>3</th>\n",
       "      <td>drive#file</td>\n",
       "      <td>application/pdf</td>\n",
       "      <td>1ytXRMbdPBiWrN1-AMqfiTo1Nwpj6MnGk</td>\n",
       "      <td>2022_PWR_855893_1.pdf</td>\n",
       "    </tr>\n",
       "    <tr>\n",
       "      <th>4</th>\n",
       "      <td>drive#file</td>\n",
       "      <td>application/pdf</td>\n",
       "      <td>1K7_VAKqdYdIf2z7cLVmevGRbbVWqQcFl</td>\n",
       "      <td>2022_PWR_855883_1.pdf</td>\n",
       "    </tr>\n",
       "  </tbody>\n",
       "</table>\n",
       "</div>"
      ],
      "text/plain": [
       "         kind         mimeType                                 id  \\\n",
       "0  drive#file  application/pdf  1cOJgOr3cYNs3U365_gttBUDNb-DCcOsN   \n",
       "1  drive#file  application/pdf  16O0wYfV-fio6tAFQhGIhsWkzbIyS8MmQ   \n",
       "2  drive#file  application/pdf  1nDVL8qvP841xvId3HgqnwcyaYvhPkXhg   \n",
       "3  drive#file  application/pdf  1ytXRMbdPBiWrN1-AMqfiTo1Nwpj6MnGk   \n",
       "4  drive#file  application/pdf  1K7_VAKqdYdIf2z7cLVmevGRbbVWqQcFl   \n",
       "\n",
       "                    name  \n",
       "0  2022_EPI_133456_1.pdf  \n",
       "1  2022_PWR_832791_1.pdf  \n",
       "2  2022_PWR_855889_1.pdf  \n",
       "3  2022_PWR_855893_1.pdf  \n",
       "4  2022_PWR_855883_1.pdf  "
      ]
     },
     "execution_count": 36,
     "metadata": {},
     "output_type": "execute_result"
    }
   ],
   "source": [
    "df = pd.read_excel(\"E:\\Projects\\GCP Integration\\Drive\\\\790 Work Orders 2024-02-08.xlsx\")\n",
    "df.head()"
   ]
  },
  {
   "cell_type": "code",
   "execution_count": 39,
   "metadata": {},
   "outputs": [
    {
     "data": {
      "text/html": [
       "<div>\n",
       "<style scoped>\n",
       "    .dataframe tbody tr th:only-of-type {\n",
       "        vertical-align: middle;\n",
       "    }\n",
       "\n",
       "    .dataframe tbody tr th {\n",
       "        vertical-align: top;\n",
       "    }\n",
       "\n",
       "    .dataframe thead th {\n",
       "        text-align: right;\n",
       "    }\n",
       "</style>\n",
       "<table border=\"1\" class=\"dataframe\">\n",
       "  <thead>\n",
       "    <tr style=\"text-align: right;\">\n",
       "      <th></th>\n",
       "      <th>kind</th>\n",
       "      <th>mimeType</th>\n",
       "      <th>id</th>\n",
       "      <th>name</th>\n",
       "    </tr>\n",
       "  </thead>\n",
       "  <tbody>\n",
       "    <tr>\n",
       "      <th>613</th>\n",
       "      <td>drive#file</td>\n",
       "      <td>application/pdf</td>\n",
       "      <td>1bdrCQX07HP4h_6eCfsM_d6Psiaj9FwtU</td>\n",
       "      <td>2023_PWR_884035_1.pdf</td>\n",
       "    </tr>\n",
       "  </tbody>\n",
       "</table>\n",
       "</div>"
      ],
      "text/plain": [
       "           kind         mimeType                                 id  \\\n",
       "613  drive#file  application/pdf  1bdrCQX07HP4h_6eCfsM_d6Psiaj9FwtU   \n",
       "\n",
       "                      name  \n",
       "613  2023_PWR_884035_1.pdf  "
      ]
     },
     "execution_count": 39,
     "metadata": {},
     "output_type": "execute_result"
    }
   ],
   "source": [
    "df[(df['name']).duplicated()]"
   ]
  },
  {
   "cell_type": "code",
   "execution_count": 40,
   "metadata": {},
   "outputs": [
    {
     "data": {
      "text/plain": [
       "1"
      ]
     },
     "execution_count": 40,
     "metadata": {},
     "output_type": "execute_result"
    }
   ],
   "source": [
    "df.shape[0] - df['name'].nunique()"
   ]
  },
  {
   "cell_type": "code",
   "execution_count": 5,
   "metadata": {},
   "outputs": [
    {
     "data": {
      "text/plain": [
       "1"
      ]
     },
     "execution_count": 5,
     "metadata": {},
     "output_type": "execute_result"
    }
   ],
   "source": [
    "5%2"
   ]
  }
 ],
 "metadata": {
  "kernelspec": {
   "display_name": "Python 3",
   "language": "python",
   "name": "python3"
  },
  "language_info": {
   "codemirror_mode": {
    "name": "ipython",
    "version": 3
   },
   "file_extension": ".py",
   "mimetype": "text/x-python",
   "name": "python",
   "nbconvert_exporter": "python",
   "pygments_lexer": "ipython3",
   "version": "3.11.4"
  }
 },
 "nbformat": 4,
 "nbformat_minor": 2
}
