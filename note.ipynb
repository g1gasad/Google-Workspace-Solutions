{
 "cells": [
  {
   "cell_type": "code",
   "execution_count": 3,
   "metadata": {},
   "outputs": [
    {
     "name": "stdout",
     "output_type": "stream",
     "text": [
      "When are you going to submit MAT solutions, assign a date - 2025-03-04\n",
      "Finish statistics for data analysis - 2025-02-25\n"
     ]
    }
   ],
   "source": [
    "data = {'kind': 'tasks#tasks', 'etag': '\"MTYyNjYyMjg0NA\"', 'items': [{'kind': 'tasks#task', 'id': 'cmEwSHJZbUxQYkJOYmtnaQ', 'etag': '\"MTYwODk4NTkwOA\"', 'title': 'When are you going to submit MAT solutions, assign a date', 'updated': '2025-03-04T06:45:40.641Z', 'selfLink': 'https://www.googleapis.com/tasks/v1/lists/MDIzMjY3NDgxNTg0OTU4ODE2ODc6MDow/tasks/cmEwSHJZbUxQYkJOYmtnaQ', 'position': '00000000000000000000', 'status': 'needsAction', 'due': '2025-03-04T00:00:00.000Z', 'links': [], 'webViewLink': 'https://tasks.google.com/task/ra0HrYmLPbBNbkgi?sa=6'}, {'kind': 'tasks#task', 'id': 'YkpVc3ROd25NSlk3a0ZfeA', 'etag': '\"OTk3NzkzMjg3\"', 'title': 'Finish statistics for data analysis', 'updated': '2025-02-25T04:59:08.562Z', 'selfLink': 'https://www.googleapis.com/tasks/v1/lists/MDIzMjY3NDgxNTg0OTU4ODE2ODc6MDow/tasks/YkpVc3ROd25NSlk3a0ZfeA', 'position': '00000000000000000001', 'status': 'needsAction', 'due': '2025-02-25T00:00:00.000Z', 'links': [], 'webViewLink': 'https://tasks.google.com/task/bJUstNwnMJY7kF_x?sa=6'}]}\n",
    "for task in data['items']:\n",
    "    print(f\"{task['title']} - {task['due'][:10]}\")"
   ]
  },
  {
   "cell_type": "code",
   "execution_count": 9,
   "metadata": {},
   "outputs": [
    {
     "data": {
      "text/plain": [
       "[['FALSE', 'is this working', 'Tue, Mar 11, 2025', 'remakr this is'],\n",
       " ['FALSE', 'what is happening', 'Mon, Mar 10, 2025', 'heina?'],\n",
       " ['FALSE'],\n",
       " ['FALSE'],\n",
       " ['FALSE'],\n",
       " ['FALSE'],\n",
       " ['FALSE'],\n",
       " ['FALSE'],\n",
       " ['FALSE'],\n",
       " ['FALSE'],\n",
       " ['FALSE'],\n",
       " ['FALSE'],\n",
       " ['FALSE'],\n",
       " ['FALSE'],\n",
       " ['FALSE'],\n",
       " ['FALSE'],\n",
       " ['FALSE'],\n",
       " ['FALSE'],\n",
       " ['FALSE'],\n",
       " ['FALSE']]"
      ]
     },
     "execution_count": 9,
     "metadata": {},
     "output_type": "execute_result"
    }
   ],
   "source": [
    "data = {'range': 'To_accomplish!C2:F22', 'majorDimension': 'ROWS', 'values': [['Done', 'Task', 'DueDate', 'Remarks'], ['FALSE', 'is this working', 'Tue, Mar 11, 2025', 'remakr this is'], ['FALSE', 'what is happening', 'Mon, Mar 10, 2025', 'heina?'], ['FALSE'], ['FALSE'], ['FALSE'], ['FALSE'], ['FALSE'], ['FALSE'], ['FALSE'], ['FALSE'], ['FALSE'], ['FALSE'], ['FALSE'], ['FALSE'], ['FALSE'], ['FALSE'], ['FALSE'], ['FALSE'], ['FALSE'], ['FALSE']]}\n",
    "data[\"values\"][1:]"
   ]
  }
 ],
 "metadata": {
  "kernelspec": {
   "display_name": "base",
   "language": "python",
   "name": "python3"
  },
  "language_info": {
   "codemirror_mode": {
    "name": "ipython",
    "version": 3
   },
   "file_extension": ".py",
   "mimetype": "text/x-python",
   "name": "python",
   "nbconvert_exporter": "python",
   "pygments_lexer": "ipython3",
   "version": "3.12.7"
  }
 },
 "nbformat": 4,
 "nbformat_minor": 2
}
